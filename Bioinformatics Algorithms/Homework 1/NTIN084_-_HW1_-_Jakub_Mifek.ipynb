{
 "cells": [
  {
   "cell_type": "markdown",
   "metadata": {},
   "source": [
    "# Úloha 1 - určovanie príbuznosti pomocou kompresie"
   ]
  },
  {
   "cell_type": "code",
   "execution_count": 1,
   "metadata": {},
   "outputs": [],
   "source": [
    "import gzip\n",
    "\n",
    "def loadfasta(filename,verbose=0):\n",
    "    \"\"\" Parses a classically formatted and possibly \n",
    "        compressed FASTA file into a dictionary where the key\n",
    "        for a sequence is the first part of its header without \n",
    "        any white space; if verbose is nonzero then the identifiers \n",
    "        together with lengths of the read sequences are printed\"\"\"\n",
    "    if (filename.endswith(\".gz\")):\n",
    "        fp = gzip.open(filename, 'rt')\n",
    "    else:\n",
    "        fp = open(filename, 'r')\n",
    "    # split at headers\n",
    "    # data = fp.read().split('>')\n",
    "    data = fp.read()\n",
    "    data = data.split('>')\n",
    "    fp.close()\n",
    "    # ignore whatever appears before the 1st header\n",
    "    data.pop(0)     \n",
    "    # prepare the dictionary\n",
    "    D = {}\n",
    "    for sequence in data:\n",
    "        lines = sequence.split('\\n')\n",
    "        header = lines.pop(0).split()\n",
    "        key = header[0]\n",
    "        D[key] = ''.join(lines)\n",
    "        if verbose:\n",
    "            print(\"Sequence %s of length %d read\" % (key,len(D[key])))\n",
    "    return D\n",
    "\n",
    "seq = loadfasta('Seq.fasta')"
   ]
  },
  {
   "cell_type": "markdown",
   "metadata": {},
   "source": [
    "First we read `Seq.fasta` file. We do that using the `loadfasta` method from seminar."
   ]
  },
  {
   "cell_type": "code",
   "execution_count": 2,
   "metadata": {},
   "outputs": [],
   "source": [
    "from gzip import compress as gzip_compress\n",
    "from os.path import getsize, splitext\n",
    "from subprocess import run\n",
    "\n",
    "def gencompress_size(genom, reference=None):\n",
    "    gename = \"gene\"\n",
    "    genomfile = gename+'.tmp'\n",
    "    \n",
    "    with open(genomfile, \"w+\") as file:\n",
    "        file.write(genom)\n",
    "    \n",
    "    if not reference == None:\n",
    "        refname = \"ref\"\n",
    "        refile = refname+'.tmp'\n",
    "    \n",
    "        with open(refile, \"w+\") as file:\n",
    "            file.write(reference)\n",
    "            \n",
    "        run([\"GenCompress.exe\", genomfile, \"-c\", refile])\n",
    "    else:\n",
    "        run([\"GenCompress.exe\", genomfile])\n",
    "     \n",
    "    return getsize(gename+\".GEN\")\n",
    "\n",
    "def gzipcompress_size(genom, reference=None):\n",
    "    size = len(gzip_compress(bytes(genom, encoding='utf8')))\n",
    "    \n",
    "    if not reference == None:\n",
    "        size = len(gzip_compress(bytes(reference + genom, encoding='utf8'))) - size\n",
    "    return size\n",
    "\n",
    "compressize = {\n",
    "    \"gen\": gencompress_size,\n",
    "    \"gzip\": gzipcompress_size\n",
    "}"
   ]
  },
  {
   "cell_type": "markdown",
   "metadata": {},
   "source": [
    "Then we define methods for computing size of compressed sequences with or without reference sequences using different algorithms (**GenCompress** and **gzip**). Beside the methods we define compressize switch variable for more transparent use."
   ]
  },
  {
   "cell_type": "code",
   "execution_count": 3,
   "metadata": {},
   "outputs": [
    {
     "data": {
      "text/plain": [
       "1377"
      ]
     },
     "execution_count": 3,
     "metadata": {},
     "output_type": "execute_result"
    }
   ],
   "source": [
    "compressize['gen'](seq['A'], seq['B'])"
   ]
  },
  {
   "cell_type": "code",
   "execution_count": 4,
   "metadata": {},
   "outputs": [
    {
     "data": {
      "text/plain": [
       "1354"
      ]
     },
     "execution_count": 4,
     "metadata": {},
     "output_type": "execute_result"
    }
   ],
   "source": [
    "compressize['gzip'](seq['A'], seq['B'])"
   ]
  },
  {
   "cell_type": "markdown",
   "metadata": {},
   "source": [
    "Now we need to define distances. The distance will be computed using the formula from the assignment and expressed in percentage rounded to 0 digits."
   ]
  },
  {
   "cell_type": "code",
   "execution_count": 5,
   "metadata": {},
   "outputs": [],
   "source": [
    "def distance(genA, genB, compress = compressize['gen']):\n",
    "    return round((1 - (compress(genA) - compress(genA, genB)) / compress(genA + genB)) * 100)"
   ]
  },
  {
   "cell_type": "code",
   "execution_count": 6,
   "metadata": {},
   "outputs": [
    {
     "data": {
      "text/plain": [
       "95"
      ]
     },
     "execution_count": 6,
     "metadata": {},
     "output_type": "execute_result"
    }
   ],
   "source": [
    "distance(seq['A'], seq['B'], compressize['gen'])"
   ]
  },
  {
   "cell_type": "markdown",
   "metadata": {},
   "source": [
    "Distance table computation:"
   ]
  },
  {
   "cell_type": "code",
   "execution_count": 7,
   "metadata": {},
   "outputs": [],
   "source": [
    "from math import inf\n",
    "\n",
    "def distance_table(sequencedict, compress = compressize['gen']):\n",
    "    table = [[inf for x in range(len(sequencedict))] for y in range(len(sequencedict))]\n",
    "    names = [key for key in sequencedict.keys()]\n",
    "    for A in range(len(names)):\n",
    "        for B in range(len(names)):\n",
    "            if A < B:\n",
    "                table[A][B] = distance(sequencedict[names[A]], sequencedict[names[B]], compress)\n",
    "            elif A == B:\n",
    "                table[A][B] = 0\n",
    "            else:\n",
    "                table[A][B] = table[B][A]\n",
    "    \n",
    "    return names, table"
   ]
  },
  {
   "cell_type": "code",
   "execution_count": 8,
   "metadata": {},
   "outputs": [
    {
     "data": {
      "text/plain": [
       "(['A', 'B', 'C', 'D', 'E', 'F', 'G', 'H'],\n",
       " [[0, 83, 96, 81, 74, 81, 68, 62],\n",
       "  [83, 0, 90, 50, 62, 46, 72, 66],\n",
       "  [96, 90, 0, 60, 50, 58, 62, 57],\n",
       "  [81, 50, 60, 0, 67, 45, 75, 68],\n",
       "  [74, 62, 50, 67, 0, 80, 80, 74],\n",
       "  [81, 46, 58, 45, 80, 0, 75, 68],\n",
       "  [68, 72, 62, 75, 80, 75, 0, 79],\n",
       "  [62, 66, 57, 68, 74, 68, 79, 0]])"
      ]
     },
     "execution_count": 8,
     "metadata": {},
     "output_type": "execute_result"
    }
   ],
   "source": [
    "distance_table(seq, compressize['gzip'])"
   ]
  },
  {
   "cell_type": "markdown",
   "metadata": {},
   "source": [
    "Compute both tables:"
   ]
  },
  {
   "cell_type": "code",
   "execution_count": 9,
   "metadata": {},
   "outputs": [
    {
     "name": "stdout",
     "output_type": "stream",
     "text": [
      "Computing distance table using compression: gen\n",
      "Computing distance table using compression: gzip\n"
     ]
    }
   ],
   "source": [
    "tables = {}\n",
    "for compression in compressize:\n",
    "    print('Computing distance table using compression:', compression)\n",
    "    tables[compression] = distance_table(seq, compressize[compression])"
   ]
  },
  {
   "cell_type": "code",
   "execution_count": 10,
   "metadata": {},
   "outputs": [
    {
     "name": "stdout",
     "output_type": "stream",
     "text": [
      "{'gen': (['A', 'B', 'C', 'D', 'E', 'F', 'G', 'H'],\n",
      "         [[0, 95, 96, 95, 95, 95, 96, 97],\n",
      "          [95, 0, 73, 50, 69, 49, 91, 93],\n",
      "          [96, 73, 0, 76, 72, 76, 93, 94],\n",
      "          [95, 50, 76, 0, 71, 44, 91, 92],\n",
      "          [95, 69, 72, 71, 0, 71, 90, 92],\n",
      "          [95, 49, 76, 44, 71, 0, 91, 93],\n",
      "          [96, 91, 93, 91, 90, 91, 0, 90],\n",
      "          [97, 93, 94, 92, 92, 93, 90, 0]]),\n",
      " 'gzip': (['A', 'B', 'C', 'D', 'E', 'F', 'G', 'H'],\n",
      "          [[0, 83, 96, 81, 74, 81, 68, 62],\n",
      "           [83, 0, 90, 50, 62, 46, 72, 66],\n",
      "           [96, 90, 0, 60, 50, 58, 62, 57],\n",
      "           [81, 50, 60, 0, 67, 45, 75, 68],\n",
      "           [74, 62, 50, 67, 0, 80, 80, 74],\n",
      "           [81, 46, 58, 45, 80, 0, 75, 68],\n",
      "           [68, 72, 62, 75, 80, 75, 0, 79],\n",
      "           [62, 66, 57, 68, 74, 68, 79, 0]])}\n"
     ]
    }
   ],
   "source": [
    "from pprint import pprint\n",
    "pprint(tables)"
   ]
  },
  {
   "cell_type": "markdown",
   "metadata": {},
   "source": [
    "From the tables we just generated we can see the probable affinity of species.\n",
    "\n",
    "For **gen**:\n",
    "  1. F and D (44)\n",
    "  2. B and F (49)\n",
    "  3. B and D (50)\n",
    "\n",
    "Thus, we can conclude that *F*, *D* and *B* are very close to each other.\n",
    "\n",
    "For **gzip**:\n",
    "  1. F and D (45)\n",
    "  2. F and B (46)\n",
    "  3. B and D (50)\n",
    " \n",
    "Thus, we can see that *F*, *D* and *B* are very close in this compression as well.\n",
    "\n",
    "From this we can conclude that in both polygenetic trees nodes representing these species will look similar to:\n",
    "\n",
    "```\n",
    "   /--B\n",
    "--|    /--F\n",
    "   \\--|\n",
    "       \\--D\n",
    "```\n",
    "\n",
    "The result is not same in all cases though. For example the last row denoting the affinity of *H* to other species differs a lot. For **gen** the compression denotes almost none affinity to any of the other species. For **gzip**, however, there is very high affinity to *C* - 57 (for **gen** the affinity to *C* was 94).\n",
    "\n",
    "From this we can conclude that the tree will differ for *H* - for **gzip** tree there should be visible affinity to *C* and for **gen** the *H* node should be somewhere at the top layers of the tree, with high distances to other nodes (closest should be *G* with distance 90).\n",
    "\n",
    "As of which algorithm is more suitable for polygenetic tree creation, I would say that **GenCompress** suits better the need. Our aim is not to compress genomes as much as possible but to find similarities in genoms. With **GenCompress** we actually try to compress one genom using the other. With **gzip** we just concatenate both sequences and hope that it will use the first for referencing the other. But that does not have to be the case and the compression algorithm may have used some other method to obtain the best result and therefore we cannot *trust* the **gzip** result as much as the **GenCompress** result."
   ]
  },
  {
   "cell_type": "markdown",
   "metadata": {},
   "source": [
    "<hr/>\n",
    "Now we need to create the phylogenetic tree. We will use `ete3` library designed for phylogenetic tree representation. For more information about the library see [ete3](http://etetoolkit.org/ipython_notebook/).\n",
    "\n",
    "Before we can create the tree, we need to cluster the data using the distance matrix. For this purpose I use [dedupe-hcluster](https://pypi.org/project/dedupe-hcluster/) module."
   ]
  },
  {
   "cell_type": "code",
   "execution_count": 22,
   "metadata": {},
   "outputs": [
    {
     "name": "stdout",
     "output_type": "stream",
     "text": [
      "Requirement already satisfied: dedupe-hcluster in c:\\users\\jakub\\anaconda3\\lib\\site-packages (0.3.6)\n",
      "Requirement already satisfied: numpy>=1.12.1; python_version == \"3.6\" in c:\\users\\jakub\\anaconda3\\lib\\site-packages (from dedupe-hcluster) (1.14.3)\n",
      "Requirement already satisfied: future in c:\\users\\jakub\\anaconda3\\lib\\site-packages (from dedupe-hcluster) (0.17.1)\n"
     ]
    },
    {
     "name": "stderr",
     "output_type": "stream",
     "text": [
      "You are using pip version 18.0, however version 18.1 is available.\n",
      "You should consider upgrading via the 'python -m pip install --upgrade pip' command.\n"
     ]
    },
    {
     "name": "stdout",
     "output_type": "stream",
     "text": [
      "Requirement already satisfied: ete3 in c:\\users\\jakub\\anaconda3\\lib\\site-packages (3.1.1)\n"
     ]
    },
    {
     "name": "stderr",
     "output_type": "stream",
     "text": [
      "You are using pip version 18.0, however version 18.1 is available.\n",
      "You should consider upgrading via the 'python -m pip install --upgrade pip' command.\n"
     ]
    }
   ],
   "source": [
    "import sys\n",
    "!{sys.executable} -m pip install dedupe-hcluster\n",
    "!{sys.executable} -m pip install ete3"
   ]
  },
  {
   "cell_type": "code",
   "execution_count": 35,
   "metadata": {},
   "outputs": [],
   "source": [
    "from hcluster import linkage, to_tree\n",
    "from ete3 import Tree\n",
    "\n",
    "def build_tree(table):\n",
    "    #hcluster part\n",
    "    l = linkage(table, \"single\") # link the data\n",
    "    T = to_tree(l) # create a tree\n",
    "\n",
    "    #ete2 section\n",
    "    root = Tree()\n",
    "    root.dist = 0\n",
    "    root.name = \"root\"\n",
    "    item2node = {T: root}\n",
    "    names = \"ABCDEFGH\"\n",
    "\n",
    "    to_visit = [T]\n",
    "    while to_visit: # While there are items to visit\n",
    "        node = to_visit.pop() # take the first\n",
    "        cl_dist = node.dist / 2.0 # take the cluster distance\n",
    "        for ch_node in [node.left, node.right]: # fill in the binary sons\n",
    "            if ch_node:\n",
    "                ch = Tree() # create a tree\n",
    "                ch.dist = cl_dist # set its distance\n",
    "                ch.name = names[ch_node.id] if ch_node.id < len(names) else str(ch_node.id) # and name\n",
    "                item2node[node].add_child(ch) # Add it as a child of parent node\n",
    "                item2node[ch_node] = ch # Set it as a node\n",
    "                to_visit.append(ch_node) # Visit it\n",
    "\n",
    "    # This is your ETE tree structure\n",
    "    return root"
   ]
  },
  {
   "cell_type": "markdown",
   "metadata": {},
   "source": [
    "Finally we can build the tree and render it using render function of ete3 tree node."
   ]
  },
  {
   "cell_type": "code",
   "execution_count": 58,
   "metadata": {},
   "outputs": [],
   "source": [
    "tree = build_tree(tables['gzip'][1])\n",
    "_ = tree.render('tree1.png', w=1000, units='px')"
   ]
  },
  {
   "cell_type": "markdown",
   "metadata": {},
   "source": [
    "## Phylogenetic tree #1 - gzip\n",
    "<img src=\"tree1.png\" alt=\"Phylogenetic tree #1\" style=\"width: 300px;\"/>"
   ]
  },
  {
   "cell_type": "code",
   "execution_count": 59,
   "metadata": {},
   "outputs": [],
   "source": [
    "tree = build_tree(tables['gen'][1])\n",
    "_ = tree.render('tree2.png', w=1000, units='px')"
   ]
  },
  {
   "cell_type": "markdown",
   "metadata": {},
   "source": [
    "## Phylogenetic tree #2 - GenCompress\n",
    "<img src=\"tree2.png\" alt=\"Phylogenetic tree #2\" style=\"width: 300px;\"/>"
   ]
  },
  {
   "cell_type": "code",
   "execution_count": null,
   "metadata": {},
   "outputs": [],
   "source": []
  }
 ],
 "metadata": {
  "kernelspec": {
   "display_name": "Python 3",
   "language": "python",
   "name": "python3"
  },
  "language_info": {
   "codemirror_mode": {
    "name": "ipython",
    "version": 3
   },
   "file_extension": ".py",
   "mimetype": "text/x-python",
   "name": "python",
   "nbconvert_exporter": "python",
   "pygments_lexer": "ipython3",
   "version": "3.6.5"
  }
 },
 "nbformat": 4,
 "nbformat_minor": 2
}
