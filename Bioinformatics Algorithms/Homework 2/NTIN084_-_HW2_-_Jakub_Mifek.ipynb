{
 "cells": [
  {
   "cell_type": "markdown",
   "metadata": {},
   "source": [
    "# Dot plot\n",
    "Dot plot is a `D=MxN` matrix that denotes similarity of two sequences `A` and `B`. `D[i,j] = 1` if and only if `A[i]==B[j]`. Otherwise, `D[i,j] = 0`. We call the visual representation of the matrix the 'dot plot', because usually the 1s are replaced with dots and 0s are replaced with blanks.\n",
    "\n",
    "Dot plot is used for serveral tasks:\n",
    " - finding common substrings\n",
    " - finding reversed substrings\n",
    " - finding the longest common substring\n",
    " - finding displacements\n",
    " - finding repeats\n",
    " - visualizing similarity of two sequences"
   ]
  },
  {
   "cell_type": "code",
   "execution_count": 1,
   "metadata": {},
   "outputs": [
    {
     "name": "stdout",
     "output_type": "stream",
     "text": [
      "Requirement already satisfied: pypng in c:\\users\\jakub\\anaconda3\\lib\\site-packages (0.0.18)\n"
     ]
    },
    {
     "name": "stderr",
     "output_type": "stream",
     "text": [
      "You are using pip version 18.0, however version 18.1 is available.\n",
      "You should consider upgrading via the 'python -m pip install --upgrade pip' command.\n"
     ]
    }
   ],
   "source": [
    "import sys\n",
    "\n",
    "!{sys.executable} -m pip install pypng\n",
    "\n",
    "import png\n",
    "import numpy as np\n",
    "\n",
    "# Stringency equal to 0 denotes scaled colors\n",
    "\n",
    "def get_color(dotplot, y, x, window, stringency=0):\n",
    "    dots=0\n",
    "    for i in range(min(window,len(dotplot)-y,len(dotplot[0])-x)):\n",
    "        dots+=dotplot[y+i,x+i]\n",
    "        \n",
    "    degree=int(255*(1-dots/window)) if stringency == 0 else (0 if dots >= stringency else 255)\n",
    "    return degree\n",
    "\n",
    "def show_dotplot(dotplot, window=1, stringency=0, shift=0,filename='output.png', verbose = True):\n",
    "    h = len(dotplot)\n",
    "    w = len(dotplot[0])\n",
    "    \n",
    "    canvas_width=w # change to compress (or enlarge) the image\n",
    "    canvas_height=h # change to compress (or enlarge) the image\n",
    "    canvas = np.zeros((canvas_width, canvas_height), dtype=int)\n",
    "    \n",
    "    square_height=canvas_height//h\n",
    "    square_width=canvas_width//w\n",
    "    \n",
    "    image = np.zeros(dotplot.shape, dtype=int)\n",
    "    \n",
    "    if verbose:\n",
    "        print('Computing {}x{} dotplot.'.format(w,h))\n",
    "        print('Window size: {}'.format(window))\n",
    "        print('Stringency: {}'.format(stringency))\n",
    "        print('Linear shift in color values: {}'.format(shift))\n",
    "    \n",
    "    for y in range(h):\n",
    "        for x in range(w):\n",
    "            image[y,x]=get_color(dotplot, y, x, window, stringency) # get color a of a dot in the dotplot\n",
    "    \n",
    "    # ratios of canvas and dotplot size\n",
    "    wratio = int(w/canvas_width) + (1 if w%canvas_width != 0 else 0)\n",
    "    hratio = int(h/canvas_height) + (1 if h%canvas_height != 0 else 0)\n",
    "    \n",
    "    if(wratio == 1 and hratio == 1): # both are the same - use the data we have\n",
    "        canvas = image\n",
    "    elif wratio <= 1 and hratio <= 1:\n",
    "        if verbose:\n",
    "            print('Enlarging image.')\n",
    "            \n",
    "        for y in range(h):\n",
    "            for x in range(w):\n",
    "                col=image[y,x]\n",
    "                \n",
    "                col+=int(shift*(col-255/2)) # linear shift towards bounds\n",
    "                col=max(col,0)\n",
    "                col=min(col,255)\n",
    "                \n",
    "                for i in range(square_width): # fill a square with our data\n",
    "                    for j in range(square_height):\n",
    "                        canvas[square_width*x+i,square_height*y+j] = col\n",
    "    else:\n",
    "        if verbose:\n",
    "            print('Compressing image.')\n",
    "        k = 1 # size of 'pixels'\n",
    "        wratio *= k\n",
    "        hratio *= k\n",
    "        for y in range(0,h,hratio):\n",
    "            for x in range(0,w,wratio):\n",
    "                i=y//hratio\n",
    "                j=x//wratio\n",
    "                # computed mean of values in a square that will be contained in a pixel\n",
    "                col=int(round(np.sum(image[y:min(h,y+hratio),x:min(w,x+wratio)])/(hratio*wratio)))\n",
    "                \n",
    "                col+=int(shift*(col-255/2)) # linear shift towards bounds\n",
    "                col=max(col,0)\n",
    "                col=min(col,255)\n",
    "                \n",
    "                for l in range(k):\n",
    "                    for m in range(k):\n",
    "                        canvas[k*j+l,k*i+m] = col\n",
    "        \n",
    "    if verbose:\n",
    "        print('Saving image as {}.'.format(filename))\n",
    "    png.from_array(canvas, 'L;8').save(filename) # save the image into a file\n",
    "    if verbose:\n",
    "        print('Image saved.')\n",
    "    \n",
    "def create_dotplot(A, B):\n",
    "    size=(len(A), len(B))\n",
    "    D=np.zeros(size, dtype=int) # create a matrix filled with zeros\n",
    "    for i in range(size[0]):\n",
    "        for j in range(size[1]):\n",
    "            D[i,j] = 1 if A[i]==B[j] else 0 # fill it with 1/0 denoting match or mismatch\n",
    "    \n",
    "    return D"
   ]
  },
  {
   "cell_type": "code",
   "execution_count": 2,
   "metadata": {},
   "outputs": [
    {
     "name": "stdout",
     "output_type": "stream",
     "text": [
      "Computing 1504x1504 dotplot.\n",
      "Window size: 1\n",
      "Stringency: 0\n",
      "Linear shift in color values: 0\n",
      "Saving image as dots_1_0_0.png.\n",
      "Image saved.\n",
      "Computing 1504x1504 dotplot.\n",
      "Window size: 7\n",
      "Stringency: 0\n",
      "Linear shift in color values: 0\n",
      "Saving image as dots_7_0_0.png.\n",
      "Image saved.\n",
      "Computing 1504x1504 dotplot.\n",
      "Window size: 7\n",
      "Stringency: 0\n",
      "Linear shift in color values: 0.8\n",
      "Saving image as dots_7_0_0,8.png.\n",
      "Image saved.\n",
      "Computing 1504x1504 dotplot.\n",
      "Window size: 7\n",
      "Stringency: 4\n",
      "Linear shift in color values: 0\n",
      "Saving image as dots_7_4_0.png.\n",
      "Image saved.\n",
      "Computing 1504x1504 dotplot.\n",
      "Window size: 12\n",
      "Stringency: 0\n",
      "Linear shift in color values: 0\n",
      "Saving image as dots_12_0_0.png.\n",
      "Image saved.\n",
      "Computing 1504x1504 dotplot.\n",
      "Window size: 12\n",
      "Stringency: 0\n",
      "Linear shift in color values: 0.8\n",
      "Saving image as dots_12_0_0,8.png.\n",
      "Image saved.\n",
      "Computing 1504x1504 dotplot.\n",
      "Window size: 12\n",
      "Stringency: 7\n",
      "Linear shift in color values: 0\n",
      "Saving image as dots_12_7_0.png.\n",
      "Image saved.\n",
      "Computing 1504x1504 dotplot.\n",
      "Window size: 20\n",
      "Stringency: 0\n",
      "Linear shift in color values: 0\n",
      "Saving image as dots_20_0_0.png.\n",
      "Image saved.\n",
      "Computing 1504x1504 dotplot.\n",
      "Window size: 20\n",
      "Stringency: 0\n",
      "Linear shift in color values: 0.8\n",
      "Saving image as dots_20_0_0,8.png.\n",
      "Image saved.\n",
      "Computing 1504x1504 dotplot.\n",
      "Window size: 20\n",
      "Stringency: 0\n",
      "Linear shift in color values: 0.8\n",
      "Saving image as dots_20_0_2.png.\n",
      "Image saved.\n",
      "Computing 1504x1504 dotplot.\n",
      "Window size: 20\n",
      "Stringency: 0\n",
      "Linear shift in color values: 0.8\n",
      "Saving image as dots_20_0_5.png.\n",
      "Image saved.\n",
      "Computing 1504x1504 dotplot.\n",
      "Window size: 20\n",
      "Stringency: 5\n",
      "Linear shift in color values: 0\n",
      "Saving image as dots_20_5_0.png.\n",
      "Image saved.\n",
      "Computing 1504x1504 dotplot.\n",
      "Window size: 20\n",
      "Stringency: 10\n",
      "Linear shift in color values: 0\n",
      "Saving image as dots_20_10_0.png.\n",
      "Image saved.\n",
      "Computing 1504x1504 dotplot.\n",
      "Window size: 20\n",
      "Stringency: 15\n",
      "Linear shift in color values: 0\n",
      "Saving image as dots_20_15_0.png.\n",
      "Image saved.\n"
     ]
    }
   ],
   "source": [
    "seq='\\\n",
    "MAAPSRTTLMPPPFRLQLRLLILPILLLLRHDAVHAEPYSGGFGSSAVSSGGLGSVGIHIPGGGVGVITE\\\n",
    "ARCPRVCSCTGLNVDCSHRGLTSVPRKISADVERLELQGNNLTVIYETDFQRLTKLRMLQLTDNQIHTIE\\\n",
    "RNSFQDLVSLERLRLNNNRLKAIPENFVTSSASLLRLDISNNVITTVGRRVFKGAQSLRSLQLDNNQITC\\\n",
    "LDEHAFKGLVELEILTLNNNNLTSLPHNIFGGLGRLRALRLSDNPFACDCHLSWLSRFLRSATRLAPYTR\\\n",
    "CQSPSQLKGQNVADLHDQEFKCSGLTEHAPMECGAENSCPHPCRCADGIVDCREKSLTSVPVTLPDDTTE\\\n",
    "LRLEQNFITELPPKSFSSFRRLRRIDLSNNNISRIAHDALSGLKQLTTLVLYGNKIKDLPSGVFKGLGSL\\\n",
    "QLLLLNANEISCIRKDAFRDLHSLSLLSLYDNNIQSLANGTFDAMKSIKTVHLAKNPFICDCNLRWLADY\\\n",
    "LHKNPIETSGARCESPKRMHRRRIESLREEKFKCSWDELRMKLSGECRMDSDCPAMCHCEGTTVDCTGRG\\\n",
    "LKEIPRDIPLHTTELLLNDNELGRISSDGLFGRLPHLVKLELKRNQLTGIEPNAFEGASHIQELQLGENK\\\n",
    "IKEISNKMFLGLHQLKTLNLYDNQISCVMPGSFEHLNSLTSLNLASNPFNCNCHLAWFAEWLRKKSLNGG\\\n",
    "AARCGAPSKVRDVQIKDLPHSEFKCSSENSEGCLGDGYCPPSCTCTGTVVRCSRNQLKEIPRGIPAETSE\\\n",
    "LYLESNEIEQIHYERIRHLRSLTRLDLSNNQITILSNYTFANLTKLSTLIISYNKLQCLQRHALSGLNNL\\\n",
    "RVLSLHGNRISMLPEGSFEDLKSLTHIALGSNPLYCDCGLKWFSDWIKLDYVEPGIARCAEPEQMKDKLI\\\n",
    "LSTPSSSFVCRGRVRNDILAKCNACFEQPCQNQAQCVALPQREYQCLCQPGYHGKHCEFMIDACYGNPCR\\\n",
    "NNATCTVLEEGRFSCQCAPGYTGARCETNIDDCLGEIKCQNNATCIDGVESYKCECQPGFSGEFCDTKIQ\\\n",
    "FCSPEFNPCANGAKCMDHFTHYSCDCQAGFHGTNCTDNIDDCQNHMCQNGGTCVDGINDYQCRCPDDYTG\\\n",
    "KYCEGHNMISMMYPQTSPCQNHECKHGVCFQPNAQGSDYLCRCHPGYTGKWCEYLTSISFVHNNSFVELE\\\n",
    "PLRTRPEANVTIVFSSAEQNGILMYDGQDAHLAVELFNGRIRVSYDVGNHPVSTMYSFEMVADGKYHAVE\\\n",
    "LLAIKKNFTLRVDRGLARSIINEGSNDYLKLTTPMFLGGLPVDPAQQAYKNWQIRNLTSFKGCMKEVWIN\\\n",
    "HKLVDFGNAQRQQKITPGCALLEGEQQEEEDDEQDFMDETPHIKEEPVDPCLENKCRRGSRCVPNSNARD\\\n",
    "GYQCKCKHGQRGRYCDQGEGSTEPPTVTAASTCRKEQVREYYTENDCRSRQPLKYAKCVGGCGNQCCAAK\\\n",
    "IVRRRKVRMVCSNNRKYIKNLDIVRKCGCTKKCY'\n",
    "\n",
    "dotplot=create_dotplot(seq, seq)\n",
    "show_dotplot(dotplot,window=1,stringency=0,shift=0,filename='dots_1_0_0.png')\n",
    "show_dotplot(dotplot,window=7,stringency=0,shift=0,filename='dots_7_0_0.png')\n",
    "show_dotplot(dotplot,window=7,stringency=0,shift=0.8,filename='dots_7_0_0,8.png')\n",
    "show_dotplot(dotplot,window=7,stringency=4,shift=0,filename='dots_7_4_0.png')\n",
    "show_dotplot(dotplot,window=12,stringency=0,shift=0,filename='dots_12_0_0.png')\n",
    "show_dotplot(dotplot,window=12,stringency=0,shift=0.8,filename='dots_12_0_0,8.png')\n",
    "show_dotplot(dotplot,window=12,stringency=7,shift=0,filename='dots_12_7_0.png')\n",
    "show_dotplot(dotplot,window=20,stringency=0,shift=0,filename='dots_20_0_0.png')\n",
    "show_dotplot(dotplot,window=20,stringency=0,shift=0.8,filename='dots_20_0_0,8.png')\n",
    "show_dotplot(dotplot,window=20,stringency=0,shift=0.8,filename='dots_20_0_2.png')\n",
    "show_dotplot(dotplot,window=20,stringency=0,shift=0.8,filename='dots_20_0_5.png')\n",
    "show_dotplot(dotplot,window=20,stringency=5,shift=0,filename='dots_20_5_0.png')\n",
    "show_dotplot(dotplot,window=20,stringency=10,shift=0,filename='dots_20_10_0.png')\n",
    "show_dotplot(dotplot,window=20,stringency=15,shift=0,filename='dots_20_15_0.png')"
   ]
  },
  {
   "cell_type": "markdown",
   "metadata": {},
   "source": [
    "## Some results:"
   ]
  },
  {
   "cell_type": "markdown",
   "metadata": {},
   "source": [
    "### dots_1_0_0\n",
    "<img src=\"./dots_1_0_0.png\"/>"
   ]
  },
  {
   "cell_type": "markdown",
   "metadata": {},
   "source": [
    "### dots_7_0_0\n",
    "<img src=\"dots_7_0_0.png\"/>"
   ]
  },
  {
   "cell_type": "markdown",
   "metadata": {},
   "source": [
    "### dots_7_4_0\n",
    "<img src=\"dots_7_4_0.png\"/>"
   ]
  },
  {
   "cell_type": "markdown",
   "metadata": {},
   "source": [
    "### dots_12_7_0\n",
    "<img src=\"dots_12_7_0.png\"/>"
   ]
  },
  {
   "cell_type": "markdown",
   "metadata": {},
   "source": [
    "### dots_20_0_0\n",
    "<img src=\"dots_20_0_0.png\"/>"
   ]
  },
  {
   "cell_type": "markdown",
   "metadata": {},
   "source": [
    "### dots_20_0_0,8\n",
    "<img src=\"dots_20_0_0,8.png\"/>"
   ]
  },
  {
   "cell_type": "markdown",
   "metadata": {},
   "source": [
    "### dots_20_0_5\n",
    "<img src=\"dots_20_0_5.png\"/>"
   ]
  },
  {
   "cell_type": "markdown",
   "metadata": {},
   "source": [
    "### dots_20_5_0\n",
    "<img src=\"dots_20_5_0.png\"/>"
   ]
  },
  {
   "cell_type": "markdown",
   "metadata": {},
   "source": [
    "### dots_20_10_0\n",
    "<img src=\"dots_20_10_0.png\"/>"
   ]
  },
  {
   "cell_type": "markdown",
   "metadata": {},
   "source": [
    "### dots_20_15_0\n",
    "<img src=\"dots_20_15_0.png\"/>"
   ]
  },
  {
   "cell_type": "markdown",
   "metadata": {},
   "source": [
    "From the images above, we can clearly see, that we compared a sequence against itself - this is visible from the main diagonal which is filled whole.\n",
    "\n",
    "Beside that, we can see, that there are no long similar sequences. When we lower the window size or lower the stringency, two squares around the main diagonal start to appear. Big one at the start of the sequence and second, smaller one around 3/4 of the sequence.\n",
    "\n",
    ">Parallel lines indicate tandem repeats of a larger motif in both sequences, e.g. (AGCTCTGAC)<sub>20</sub>, so called minisatellite patterns. The distance between the diagonals equals the distance of the motif.\n",
    "><sub><br/>Cited from text of Jan Schulz Introduction to dot-plots.</sub>\n",
    "\n",
    "This indicates that there are minisatellite patters which include larger number mistmatches - around 10-15 edit operations is needed for sequences of length 20 for minisatellites to be clearly visible.\n",
    "\n",
    "Based on the information from the site https://www.ncbi.nlm.nih.gov/protein/P24014#sequence_P24014.2 I would conclude that the smaller minisatellite consists of EGF-like domains which repeat a lot in positions 935-1173. The bigger minisatellite probably consists of LRR-like repeats that dominate the sequence in positions 64-920."
   ]
  },
  {
   "cell_type": "markdown",
   "metadata": {},
   "source": [
    "## NM_000044\n",
    "This sequence belongs to Homo sapiens and contains genom of androgen receptor."
   ]
  },
  {
   "cell_type": "code",
   "execution_count": 3,
   "metadata": {},
   "outputs": [
    {
     "data": {
      "text/plain": [
       "dict_keys(['NM_000044.4'])"
      ]
     },
     "execution_count": 3,
     "metadata": {},
     "output_type": "execute_result"
    }
   ],
   "source": [
    "import gzip\n",
    "\n",
    "def loadfasta(filename,verbose=0):\n",
    "    \"\"\" Parses a classically formatted and possibly \n",
    "        compressed FASTA file into a dictionary where the key\n",
    "        for a sequence is the first part of its header without \n",
    "        any white space; if verbose is nonzero then the identifiers \n",
    "        together with lengths of the read sequences are printed\"\"\"\n",
    "    if (filename.endswith(\".gz\")):\n",
    "        fp = gzip.open(filename, 'rt')\n",
    "    else:\n",
    "        fp = open(filename, 'r')\n",
    "    # split at headers\n",
    "    # data = fp.read().split('>')\n",
    "    data = fp.read()\n",
    "    data = data.split('>')\n",
    "    fp.close()\n",
    "    # ignore whatever appears before the 1st header\n",
    "    data.pop(0)     \n",
    "    # prepare the dictionary\n",
    "    D = {}\n",
    "    for sequence in data:\n",
    "        lines = sequence.split('\\n')\n",
    "        header = lines.pop(0).split()\n",
    "        key = header[0]\n",
    "        D[key] = ''.join(lines)\n",
    "        if verbose:\n",
    "            print(\"Sequence %s of length %d read\" % (key,len(D[key])))\n",
    "    return D\n",
    "\n",
    "seq = loadfasta('Arabidopsis.fasta')\n",
    "seq.keys()"
   ]
  },
  {
   "cell_type": "code",
   "execution_count": 4,
   "metadata": {},
   "outputs": [
    {
     "name": "stdout",
     "output_type": "stream",
     "text": [
      "Computing 10070x10070 dotplot.\n",
      "Window size: 25\n",
      "Stringency: 0\n",
      "Linear shift in color values: 100\n",
      "Saving image as nm_000044_25_0_100.png.\n",
      "Image saved.\n"
     ]
    }
   ],
   "source": [
    "dotplot=create_dotplot(seq['NM_000044.4'], seq['NM_000044.4'])\n",
    "show_dotplot(dotplot,window=25,stringency=0,shift=100,filename='nm_000044_25_0_100.png')"
   ]
  },
  {
   "cell_type": "markdown",
   "metadata": {},
   "source": [
    "### nm_000044_25_0_100\n",
    "<img src=\"nm_000044_25_0_100.png\"/>"
   ]
  },
  {
   "cell_type": "code",
   "execution_count": 5,
   "metadata": {},
   "outputs": [
    {
     "name": "stdout",
     "output_type": "stream",
     "text": [
      "Computing 10070x10070 dotplot.\n",
      "Window size: 25\n",
      "Stringency: 7\n",
      "Linear shift in color values: 0\n",
      "Saving image as nm_000044_25_7_0.png.\n",
      "Image saved.\n"
     ]
    }
   ],
   "source": [
    "show_dotplot(dotplot,window=25,stringency=7,shift=0,filename='nm_000044_25_7_0.png')"
   ]
  },
  {
   "cell_type": "markdown",
   "metadata": {},
   "source": [
    "### nm_000044_25_7_0\n",
    "<img src=\"nm_000044_25_7_0.png\"/>"
   ]
  },
  {
   "cell_type": "code",
   "execution_count": 6,
   "metadata": {},
   "outputs": [
    {
     "name": "stdout",
     "output_type": "stream",
     "text": [
      "Computing 10070x10070 dotplot.\n",
      "Window size: 25\n",
      "Stringency: 11\n",
      "Linear shift in color values: 0\n",
      "Saving image as nm_000044_25_11_0.png.\n",
      "Image saved.\n"
     ]
    }
   ],
   "source": [
    "show_dotplot(dotplot,window=25,stringency=11,shift=0,filename='nm_000044_25_11_0.png')"
   ]
  },
  {
   "cell_type": "markdown",
   "metadata": {},
   "source": [
    "### nm_000044_25_11_0\n",
    "<img src=\"nm_000044_25_11_0.png\"/>"
   ]
  },
  {
   "cell_type": "code",
   "execution_count": 7,
   "metadata": {},
   "outputs": [
    {
     "name": "stdout",
     "output_type": "stream",
     "text": [
      "Computing 10070x10070 dotplot.\n",
      "Window size: 25\n",
      "Stringency: 15\n",
      "Linear shift in color values: 0\n",
      "Saving image as nm_000044_25_15_0.png.\n",
      "Image saved.\n"
     ]
    }
   ],
   "source": [
    "show_dotplot(dotplot,window=25,stringency=15,shift=0,filename='nm_000044_25_15_0.png')"
   ]
  },
  {
   "cell_type": "markdown",
   "metadata": {},
   "source": [
    "### nm_000044_25_15_0\n",
    "<img src=\"nm_000044_25_15_0.png\"/>"
   ]
  },
  {
   "cell_type": "markdown",
   "metadata": {},
   "source": [
    "There are no highly similar parts right in the middle as can be observed from images above. However, there are some interesting patterns at about 2/5 of the sequence:"
   ]
  },
  {
   "cell_type": "markdown",
   "metadata": {},
   "source": [
    "<img src=\"Inked_nm_000044_25_15_0.jpg\"/>"
   ]
  },
  {
   "cell_type": "markdown",
   "metadata": {},
   "source": [
    "<img src=\"Inked_nm_000044_25_15_0_croped.jpg\"/>"
   ]
  },
  {
   "cell_type": "markdown",
   "metadata": {},
   "source": [
    "Especially the lower one consists of three patterns around the diagonal from which two lie right on the diagonal. Both form minisatellites.\n",
    "\n",
    "If we open the FASTA file containing the genom at about the position of those patterns, two places immediatelly pop out:\n",
    " - `TTCCTGAATTCTATTTGCTGGGCTTTTTTTTTCTCTTTCTCTCCTTTCTTTTTCTTCTTCCCTCCCTATCTAACCCTCCCATGGCACCTTCAGACTTTGCTTCCCATTGTGGCTCCTATCTGTGTTTTGAATGGTGTTGTATGCCTTT` - at positions 3470:3620\n",
    " - `AAATCAAAACAAAAACAAGCAAACAAAAAAAAAAAGCAAAAACAAAACAAAAAATAAGCCAAAAAACCTTGCTAGTGTTTTTTCCTCAAAAATAAATAAATAAATAAATAAATACGTACATACATACACACATACATACAAACATATAGAAATCCCCAAAGAGGCCAATAGTGACGAGAAGGTGAAAA` - at positions 3751:3942\n",
    "\n",
    "The first sequence is thymine rich. There is also long sequence of thymines occasionaly interrupted by cytosine.\n",
    "\n",
    "The second sequence is not that continous but adenine-rich and contains a subsequence of repeated `TAC`.\n",
    "\n",
    "In the file we may also notice repetitive sequence `GGTGGTGGTGGGGGTGGTGGCGGCGGCGGCGGCGGCGGCGGCGGCGGCGGCGGCGGCGGCGGCGGCGGCGAGGCGGGAGCTGTAGC` at positions 1900:1987 which in our opinion corresponds to the pattern at the bottom right corner of a 'square' formed at the beginning of the sequence (see the zoomed out image above)."
   ]
  },
  {
   "cell_type": "markdown",
   "metadata": {},
   "source": [
    "# Globins"
   ]
  },
  {
   "cell_type": "code",
   "execution_count": 8,
   "metadata": {},
   "outputs": [
    {
     "name": "stdout",
     "output_type": "stream",
     "text": [
      "Computing 151x203 dotplot.\n",
      "Window size: 1\n",
      "Stringency: 0\n",
      "Linear shift in color values: 0\n",
      "Saving image as armahuman_1_0_0.png.\n",
      "Image saved.\n",
      "Computing 151x203 dotplot.\n",
      "Window size: 2\n",
      "Stringency: 0\n",
      "Linear shift in color values: 0\n",
      "Saving image as armahuman_2_0_0.png.\n",
      "Image saved.\n",
      "Computing 151x203 dotplot.\n",
      "Window size: 3\n",
      "Stringency: 0\n",
      "Linear shift in color values: 0\n",
      "Saving image as armahuman_3_0_0.png.\n",
      "Image saved.\n",
      "Computing 151x203 dotplot.\n",
      "Window size: 4\n",
      "Stringency: 0\n",
      "Linear shift in color values: 0\n",
      "Saving image as armahuman_4_0_0.png.\n",
      "Image saved.\n"
     ]
    }
   ],
   "source": [
    "armadillo='\\\n",
    "MESPEPELIRQSWRVVSRSPLEHGTILFARLFDLEPDLLSLFQYNCRQFSSVEACLSSPEFLDHIRKVMV\\\n",
    "VIDTAVTNVEDLSSLEEYLAGLGRKHRAVGVKLSSFSEIQERQWDLLQVIRRKQPEKSRRVCRVKGGSSG\\\n",
    "RALQPDPRQHLDLGQVLLHQRREPRGAPSPPQYLGRTLSPGAPAVPPEQPSPLGHPLLPCAPR'\n",
    "human='\\\n",
    "MERPEPELIRQSWRAVSRSPLEHGTVLFARLFALEPDLLPLFQYNCRQFSSPEDCLSSPEFLDHIRKVML\\\n",
    "VIDAAVTNVEDLSSLEEYLASLGRKHRAVGVKLSSFSTVGESLLYMLEKCLGPAFTPATRAAWSQLYGAV\\\n",
    "VQAMSRGWDGE'\n",
    "\n",
    "dotplot=create_dotplot(armadillo,human)\n",
    "for k in range(1,5):\n",
    "    show_dotplot(dotplot,window=k,stringency=0,shift=0,filename='armahuman_{}_0_0.png'.format(k))"
   ]
  },
  {
   "cell_type": "markdown",
   "metadata": {},
   "source": [
    "## Results:\n",
    "<div>\n",
    "    <img />\n",
    "    <img src=\"armahuman_1_0_0.png\" style=\"float:left;width:25%;padding:1%\"/>\n",
    "    <img src=\"armahuman_2_0_0.png\" style=\"float:left;width:25%;padding:1%\"/>\n",
    "    <img src=\"armahuman_3_0_0.png\" style=\"float:left;width:25%;padding:1%\"/>\n",
    "    <img src=\"armahuman_4_0_0.png\" style=\"float:left;width:25%;padding:1%\"/>\n",
    "</div>"
   ]
  },
  {
   "cell_type": "markdown",
   "metadata": {},
   "source": [
    "From the pictures above we can see that the longest similar subsequence starts at the beginning of the sequence and goes up to about 2/3 of human sequence.\n",
    "\n",
    "From sequence analysis we can conclude that the similar parts are for human and armadillo respectively:\n",
    " - `MERPEPELIRQSWRAVSRSPLEHGTVLFARLFALEPDLLPLFQYNCRQFSSPEDCLSSPEFLDHIRKVMLVIDAAVTNVEDLSSLEEYLASLGRKHRAVGVKLSSFS`\n",
    " - `MESPEPELIRQSWRVVSRSPLEHGTILFARLFDLEPDLLSLFQYNCRQFSSVEACLSSPEFLDHIRKVMVVIDTAVTNVEDLSSLEEYLAGLGRKHRAVGVKLSSFS`\n",
    " \n",
    "Positions of these sequences are 0:106."
   ]
  },
  {
   "cell_type": "code",
   "execution_count": 9,
   "metadata": {},
   "outputs": [
    {
     "name": "stdout",
     "output_type": "stream",
     "text": [
      "There were 97 matches in sequences of length 107.\n"
     ]
    }
   ],
   "source": [
    "armadillo='MESPEPELIRQSWRVVSRSPLEHGTILFARLFDLEPDLLSLFQYNCRQFSSVEACLSSPEFLDHIRKVMVVIDTAVTNVEDLSSLEEYLAGLGRKHRAVGVKLSSFS'\n",
    "human='MERPEPELIRQSWRAVSRSPLEHGTVLFARLFALEPDLLPLFQYNCRQFSSPEDCLSSPEFLDHIRKVMLVIDAAVTNVEDLSSLEEYLASLGRKHRAVGVKLSSFS'\n",
    "\n",
    "matches=len([1 for x in range(len(human)) if human[x] == armadillo[x]])\n",
    "print('There were {} matches in sequences of length {}.'.format(matches,len(human)))"
   ]
  },
  {
   "cell_type": "markdown",
   "metadata": {},
   "source": [
    "# HIV virus"
   ]
  },
  {
   "cell_type": "markdown",
   "metadata": {},
   "source": [
    "![dotplot.png](dotplot.png)"
   ]
  },
  {
   "cell_type": "markdown",
   "metadata": {},
   "source": [
    "From the dotplot above we can see that there are same segments of the sequence at the beginning and at the end of the squence. This means that there is a prefix of the sequence that is the same as the suffix. There is also a repetitive segment at about 1/4 of the sequence.\n",
    "\n",
    "We tried multiple settings of the dotplot but found no other interesting patterns. However, there still may be some due to the fact that the image must be higly compressed.\n",
    "\n",
    "I used https://dotlet.vital-it.ch/ for generating and studying the picture because the tool provided in the task was not accessable (403 - Forbidden)."
   ]
  }
 ],
 "metadata": {
  "kernelspec": {
   "display_name": "Python 3",
   "language": "python",
   "name": "python3"
  },
  "language_info": {
   "codemirror_mode": {
    "name": "ipython",
    "version": 3
   },
   "file_extension": ".py",
   "mimetype": "text/x-python",
   "name": "python",
   "nbconvert_exporter": "python",
   "pygments_lexer": "ipython3",
   "version": "3.6.5"
  }
 },
 "nbformat": 4,
 "nbformat_minor": 2
}
