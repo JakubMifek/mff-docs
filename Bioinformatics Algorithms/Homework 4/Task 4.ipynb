{
 "cells": [
  {
   "cell_type": "markdown",
   "metadata": {},
   "source": [
    "# 2. Needleman-Wunschov algoritmus s afinným skóre za diery\n",
    "\n",
    "> Implementujte Needleman-Wunshov algoritmus na globálny alignment s afi\f",
    "nnými pokutami za diery. Vaša funkcia bude volaná nasledovne\n",
    "\n",
    "    NWAffine(seqA, seqB, match, mismatch, gapopen, gapext)\n",
    "\n",
    "kde\n",
    "\n",
    " - `seqA` je string obsahujúci prvú sekvenciu,\n",
    " - `seqB` je string obsahujúci druhú sekvenciu,\n",
    " - `match` je kladné skóre za zhodu,\n",
    " - `mismatch` je záporná pokuta za nezhodu,\n",
    " - `gapopen` je záporná pokuta za otvorenie diery,\n",
    " - `gapext` je záporná pokuta za predĺženie diery o jeden znak.\n",
    "\n",
    "Funkcia bude vracať skóre globálneho alignmentu sekvencií `seqA` a `seqB`. Volaním tejto funkcie s parametrami:\n",
    " - `match = 1`\n",
    " - `mismatch = -1`\n",
    " - `gapopen = -2`\n",
    " - `gapext = -1`\n",
    "\n",
    "spočítajte skóre pre všetky dvojice sekvencií:\n",
    " - Homo sapiens insulin (INS), transcript variant 1, mRNA\n",
    " - Rattus norvegicus insulin 1 (Ins1), mRNA\n",
    " - Mus musculus insulin II (Ins2), transcript variant 1, mRNA\n",
    "\n",
    "Uvedené sekvencie môžete získat' z \"NCBI Entrez sequence retrieval system\" na adrese http://www.ncbi.nlm.nih.gov/nucleotide?cdb=nucleotide. Hľadajte iba v sekcii nukleových sekvencií. Sekvencie by mali mať dĺžku medzi 400 a 500 báz."
   ]
  },
  {
   "cell_type": "code",
   "execution_count": 1,
   "metadata": {},
   "outputs": [],
   "source": [
    "import numpy as np"
   ]
  },
  {
   "cell_type": "code",
   "execution_count": 21,
   "metadata": {},
   "outputs": [],
   "source": [
    "import gzip\n",
    "\n",
    "def loadfasta(filename,verbose=False):\n",
    "    \"\"\" Parses a classically formatted and possibly \n",
    "        compressed FASTA file into a dictionary where the key\n",
    "        for a sequence is the first part of its header without \n",
    "        any white space; if verbose is nonzero then the identifiers \n",
    "        together with lengths of the read sequences are printed\"\"\"\n",
    "    if (filename.endswith(\".gz\")):\n",
    "        fp = gzip.open(filename, 'rt')\n",
    "    else:\n",
    "        fp = open(filename, 'r')\n",
    "    # split at headers\n",
    "    # data = fp.read().split('>')\n",
    "    data = fp.read()\n",
    "    data = data.split('>')\n",
    "    fp.close()\n",
    "    # ignore whatever appears before the 1st header\n",
    "    data.pop(0)     \n",
    "    # prepare the dictionary\n",
    "    D = {}\n",
    "    for sequence in data:\n",
    "        lines = sequence.split('\\n')\n",
    "        header = lines.pop(0).split()\n",
    "        key = header[0]\n",
    "        D[key] = ''.join(lines)\n",
    "        if verbose:\n",
    "            print(\"Sequence %s of length %d read\" % (key,len(D[key])))\n",
    "    return D"
   ]
  },
  {
   "cell_type": "code",
   "execution_count": 13,
   "metadata": {},
   "outputs": [],
   "source": [
    "def score(a, b, match, mismatch):\n",
    "    return match if a == b else mismatch"
   ]
  },
  {
   "cell_type": "code",
   "execution_count": 40,
   "metadata": {},
   "outputs": [],
   "source": [
    "def NWAffine(seqA, seqB, match, mismatch, gapopen, gapext, verbose=False):\n",
    "    \"\"\"Needleman-Wunsh algorithm for global alignment with affine penalties\n",
    "    \"\"\"\n",
    "    \n",
    "    # Init\n",
    "    A = len(seqA)\n",
    "    B = len(seqB)\n",
    "    M = np.zeros((A+1, B+1))\n",
    "    I = np.zeros((A+1, B+1))\n",
    "    \n",
    "    for i in range(A+1):\n",
    "        M[i][0] = np.NINF\n",
    "        I[i][0] = gapopen+(i-1)*gapext\n",
    "        \n",
    "    for i in range(B+1):\n",
    "        M[0][i] = np.NINF\n",
    "        I[0][i] = gapopen+(i-1)*gapext\n",
    "    \n",
    "    I[0][0] = M[0][0] = 0 # This needs to be there for the first step\n",
    "    \n",
    "    for x in range(1,A+1):\n",
    "        for y in range(1,B+1):\n",
    "            I[x][y] = max([\n",
    "                M[x-1][y]+gapopen,\n",
    "                I[x-1][y]+gapext,\n",
    "                M[x][y-1]+gapopen,\n",
    "                I[x][y-1]+gapext\n",
    "            ])\n",
    "            M[x][y] = max([\n",
    "                M[x-1][y-1]+score(seqA[x-1], seqB[y-1], match, mismatch),\n",
    "                I[x-1][y-1]+score(seqA[x-1], seqB[y-1], match, mismatch)\n",
    "            ])\n",
    "    \n",
    "    if verbose:\n",
    "        print(M)\n",
    "        print(I)\n",
    "            \n",
    "    return max(M[A][B], I[A][B])"
   ]
  },
  {
   "cell_type": "code",
   "execution_count": 26,
   "metadata": {},
   "outputs": [
    {
     "name": "stdout",
     "output_type": "stream",
     "text": [
      "[[   0.   43. -545.]\n",
      " [   0.    0.  -75.]\n",
      " [   0.    0.    0.]]\n"
     ]
    }
   ],
   "source": [
    "sequences = [\n",
    "    loadfasta('NC_000011.10.fasta')['NC_000011.10:c2161209-2159779'],\n",
    "    loadfasta('NC_000073.6.fasta')['NC_000073.6:c142679726-142678656'],\n",
    "    loadfasta('NC_005100.4.fasta')['NC_005100.4:272799784-272800351']\n",
    "]\n",
    "\n",
    "S = len(sequences)\n",
    "results = np.zeros((S, S))\n",
    "for i in range(S):\n",
    "    for j in range(i+1, S):\n",
    "        results[i][j] = NWAffine(sequences[i], sequences[j], 1, -1, -2, -1)\n",
    "\n",
    "print(results)"
   ]
  },
  {
   "cell_type": "markdown",
   "metadata": {},
   "source": [
    "# Results\n",
    "\n",
    "|      | INS  | Ins1 | Ins2 |\n",
    "| :--: | :--: | :--: | :--: |\n",
    "| INS  | ∞    | 43   | -545 |\n",
    "| Ins1 | 43   | ∞    |  -75 |\n",
    "| Ins2 | -545 |  -75 | ∞    |"
   ]
  },
  {
   "cell_type": "markdown",
   "metadata": {},
   "source": [
    "# 1. Globálny a lokálny alignment\n",
    "\n",
    "> Implementujte Needleman-Wunshov algoritmus na globálny alignment s lineárnymi pokutami za diery. Vaša funkcia bude volaná nasledovne\n",
    "\n",
    "    NeedlemanWunsh(seqA, seqB, match, mismatch, gap)\n",
    "\n",
    "kde\n",
    "\n",
    " - `seqA` je string obsahujúci prvú sekvenciu,\n",
    " - `seqB` je string obsahujúci druhú sekvenciu,\n",
    " - `match` je kladné skóre za zhodu,\n",
    " - `mismatch` je záporná pokuta za nezhodu,\n",
    " - `gap` je záporná pokuta za dieru dĺžky 1.\n",
    "\n",
    "Funkcia bude vracať skóre globálneho alignmentu sekvencií `seqA` a `seqB`."
   ]
  },
  {
   "cell_type": "code",
   "execution_count": 36,
   "metadata": {},
   "outputs": [],
   "source": [
    "def NeedlemanWunsh(seqA, seqB, match, mismatch, gap, verbose=False):\n",
    "    \"\"\" NW is the same as NWAffine but it penalizes gap extensions same as gap openings\n",
    "    \"\"\"\n",
    "    return NWAffine(seqA, seqB, match, mismatch, gap, gap, verbose)"
   ]
  },
  {
   "cell_type": "markdown",
   "metadata": {},
   "source": [
    "> Implementujte Smith-Watermanov algoritmus na lokálny alignment s lineárnymi pokutami za diery. Vaša funkcia bude volaná nasledovne\n",
    "\n",
    "    SmithWatermann(seqA, seqB, match, mismatch, gap)\n",
    "\n",
    "kde\n",
    "\n",
    " - `seqA` je string obsahujúci sekvenciu,\n",
    " - `seqB` je string obsahujúci sekvenciu,\n",
    " - `match` je kladné skóre za zhodu,\n",
    " - `mismatch` je záporná pokuta za nezhodu,\n",
    " - `gap` je záporná pokuta za dieru dĺžky 1.\n",
    "\n",
    "Funkcia bude vracať skóre lokálneho alignmentu sekvencií `seqA` a `seqB`."
   ]
  },
  {
   "cell_type": "code",
   "execution_count": 41,
   "metadata": {},
   "outputs": [],
   "source": [
    "def SmithWatermann(seqA, seqB, match, mismatch, gap, verbose=False):\n",
    "    \"\"\"Smith-Watermann algorithm for local alignment with linear penalties\n",
    "    \"\"\"\n",
    "    \n",
    "    A = len(seqA)\n",
    "    B = len(seqB)\n",
    "    F = np.zeros((A+1, B+1))\n",
    "    \n",
    "    high_score = 0\n",
    "    high_x = 0\n",
    "    high_y = 0\n",
    "    \n",
    "    for i in range(1, A+1):\n",
    "        for j in range(1, B+1):\n",
    "            F[i][j] = max([\n",
    "                0,\n",
    "                F[i-1][j-1]+score(seqA[i-1], seqB[j-1], match, mismatch),\n",
    "                F[i-1][j]+gap,\n",
    "                F[i][j-1]+gap\n",
    "            ])\n",
    "            if F[i][j] > high_score:\n",
    "                high_score = F[i][j]\n",
    "                high_x = i\n",
    "                high_y = j\n",
    "    \n",
    "    if verbose:\n",
    "        print(F)\n",
    "    \n",
    "    return high_score"
   ]
  },
  {
   "cell_type": "markdown",
   "metadata": {},
   "source": [
    "Pomocou oboch funkcií s parametrami match = 1, mismatch = -1 a gap = -2 spočítajte skóre pre\n",
    "všetky dvojice sekvencií:\n",
    "\n",
    " - H.fasta\n",
    " - I.fasta\n",
    " - J.fasta\n",
    "\n",
    "Výsledné skóre porovnajte."
   ]
  },
  {
   "cell_type": "code",
   "execution_count": 46,
   "metadata": {},
   "outputs": [
    {
     "name": "stdout",
     "output_type": "stream",
     "text": [
      "[[[   0. -214. -206.]\n",
      "  [   0.    0. 1020.]\n",
      "  [   0.    0.    0.]]\n",
      "\n",
      " [[   0. 1292.  727.]\n",
      "  [   0.    0. 1042.]\n",
      "  [   0.    0.    0.]]]\n"
     ]
    }
   ],
   "source": [
    "sequences = [\n",
    "    loadfasta('H.fasta')['seq'],\n",
    "    loadfasta('I.fasta')['seq'],\n",
    "    loadfasta('J.fasta')['seq']\n",
    "]\n",
    "\n",
    "S = len(sequences)\n",
    "results = np.zeros((2, S, S))\n",
    "for i in range(S):\n",
    "    for j in range(i+1, S):\n",
    "        results[0][i][j] = NeedlemanWunsh(sequences[i], sequences[j], 1, -1, -2)\n",
    "        results[1][i][j] = SmithWatermann(sequences[i], sequences[j], 1, -1, -2)\n",
    "\n",
    "print(results)"
   ]
  },
  {
   "cell_type": "markdown",
   "metadata": {},
   "source": [
    "# Results\n",
    "\n",
    "| Global | H    | I    | J    |\n",
    "| :----: | :--: | :--: | :--: |\n",
    "| H      | ∞    | -214 | -206 |\n",
    "| I      | -214 | ∞    | 1020 |\n",
    "| J      | -206 | 1020 | ∞    |\n",
    "\n",
    "| Local  | H    | I    | J    |\n",
    "| :----: | :--: | :--: | :--: |\n",
    "| H      | ∞    | 1292 | 727  |\n",
    "| I      | 1292 | ∞    | 1042 |\n",
    "| J      | 727  | 1042 | ∞    |"
   ]
  }
 ],
 "metadata": {
  "kernelspec": {
   "display_name": "Python 3",
   "language": "python",
   "name": "python3"
  },
  "language_info": {
   "codemirror_mode": {
    "name": "ipython",
    "version": 3
   },
   "file_extension": ".py",
   "mimetype": "text/x-python",
   "name": "python",
   "nbconvert_exporter": "python",
   "pygments_lexer": "ipython3",
   "version": "3.6.5"
  }
 },
 "nbformat": 4,
 "nbformat_minor": 2
}
